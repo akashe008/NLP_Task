{
  "nbformat": 4,
  "nbformat_minor": 0,
  "metadata": {
    "colab": {
      "provenance": []
    },
    "kernelspec": {
      "name": "python3",
      "display_name": "Python 3"
    },
    "language_info": {
      "name": "python"
    }
  },
  "cells": [
    {
      "cell_type": "code",
      "source": [
        "!pip3 install PyPDF2"
      ],
      "metadata": {
        "colab": {
          "base_uri": "https://localhost:8080/"
        },
        "id": "ZimFXDTR29tx",
        "outputId": "92d93769-2ad7-4a98-cb3c-541a192e1d7d"
      },
      "execution_count": 20,
      "outputs": [
        {
          "output_type": "stream",
          "name": "stdout",
          "text": [
            "Looking in indexes: https://pypi.org/simple, https://us-python.pkg.dev/colab-wheels/public/simple/\n",
            "Requirement already satisfied: PyPDF2 in /usr/local/lib/python3.7/dist-packages (2.11.1)\n",
            "Requirement already satisfied: typing-extensions>=3.10.0.0 in /usr/local/lib/python3.7/dist-packages (from PyPDF2) (4.1.1)\n"
          ]
        }
      ]
    },
    {
      "cell_type": "code",
      "source": [
        "def resume(res,skill):\n",
        "  import PyPDF2\n",
        "  import re\n",
        "  c=0\n",
        "  fFileObj = open(res, 'rb')\n",
        "  pdfReader = PyPDF2.PdfFileReader(fFileObj)\n",
        "  pageObj = pdfReader.getPage(0)\n",
        "  #print(\"Total Pages : {} \".format(pdfReader.numPages))\n",
        "\n",
        "  resume = pageObj.extractText()\n",
        "  resume=re.sub('[\\n|\\r|\\r\\n]',\" \",resume)\n",
        "  r=re.findall('Skill.*',resume)\n",
        "  r=re.sub('\\s+',' ',r[0])\n",
        "  for i in skill:\n",
        "    if i in r.lower():\n",
        "      c+=1\n",
        "    else:\n",
        "      break\n",
        "  if len(skill)==c:\n",
        "    print(res,'matches')"
      ],
      "metadata": {
        "id": "eK-zfE112J-B"
      },
      "execution_count": 21,
      "outputs": []
    },
    {
      "cell_type": "code",
      "source": [
        "filename=['Sample1.pdf','Sample2.pdf','Sample3.pdf','Sample4.pdf']\n",
        "skill=[]\n",
        "print('How many skills do you want to find?')\n",
        "n=int(input())\n",
        "print('What are the skills you expect in a resume?')\n",
        "for i in range(n):\n",
        "  skill.append(input())\n",
        "skill\n",
        "for i in filename:\n",
        "  resume(i,skill)"
      ],
      "metadata": {
        "colab": {
          "base_uri": "https://localhost:8080/"
        },
        "id": "jGvQ163U2KCN",
        "outputId": "5d38fe6d-62d3-44e2-a23b-6a2cd44ee548"
      },
      "execution_count": 22,
      "outputs": [
        {
          "output_type": "stream",
          "name": "stdout",
          "text": [
            "How many skills do you want to find?\n",
            "2\n",
            "What are the skills you expect in a resume?\n",
            "java\n",
            "css\n",
            "Sample2.pdf matches\n",
            "Sample3.pdf matches\n",
            "Sample4.pdf matches\n"
          ]
        }
      ]
    },
    {
      "cell_type": "code",
      "source": [],
      "metadata": {
        "id": "fP15wxRy2KE9"
      },
      "execution_count": 22,
      "outputs": []
    },
    {
      "cell_type": "code",
      "source": [],
      "metadata": {
        "id": "GiF1i-3c2KH7"
      },
      "execution_count": 22,
      "outputs": []
    },
    {
      "cell_type": "code",
      "source": [],
      "metadata": {
        "id": "N6zHIsrf2KMB"
      },
      "execution_count": 22,
      "outputs": []
    }
  ]
}