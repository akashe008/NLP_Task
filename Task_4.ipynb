{
 "cells": [
  {
   "cell_type": "code",
   "execution_count": 3,
   "id": "b698e4b5",
   "metadata": {},
   "outputs": [
    {
     "name": "stdout",
     "output_type": "stream",
     "text": [
      "Requirement already satisfied: speechrecognition in c:\\users\\dell\\anaconda3\\lib\\site-packages (3.8.1)\n"
     ]
    }
   ],
   "source": [
    "!pip install speechrecognition"
   ]
  },
  {
   "cell_type": "code",
   "execution_count": 4,
   "id": "8b9934a9",
   "metadata": {},
   "outputs": [
    {
     "name": "stdout",
     "output_type": "stream",
     "text": [
      "Collecting pyttsx3\n",
      "  Downloading pyttsx3-2.90-py3-none-any.whl (39 kB)\n",
      "Requirement already satisfied: pywin32 in c:\\users\\dell\\anaconda3\\lib\\site-packages (from pyttsx3) (302)\n",
      "Collecting pypiwin32\n",
      "  Downloading pypiwin32-223-py3-none-any.whl (1.7 kB)\n",
      "Requirement already satisfied: comtypes in c:\\users\\dell\\anaconda3\\lib\\site-packages (from pyttsx3) (1.1.10)\n",
      "Installing collected packages: pypiwin32, pyttsx3\n",
      "Successfully installed pypiwin32-223 pyttsx3-2.90\n"
     ]
    }
   ],
   "source": [
    "!pip install pyttsx3"
   ]
  },
  {
   "cell_type": "code",
   "execution_count": 5,
   "id": "6372a573",
   "metadata": {},
   "outputs": [
    {
     "name": "stdout",
     "output_type": "stream",
     "text": [
      "Collecting pyaudio\n",
      "  Downloading PyAudio-0.2.12-cp39-cp39-win_amd64.whl (163 kB)\n",
      "Installing collected packages: pyaudio\n",
      "Successfully installed pyaudio-0.2.12\n"
     ]
    }
   ],
   "source": [
    "!pip install pyaudio"
   ]
  },
  {
   "cell_type": "code",
   "execution_count": 42,
   "id": "afffae95",
   "metadata": {},
   "outputs": [],
   "source": [
    "\n",
    "import speech_recognition as sr\n",
    "import pyttsx3\n",
    " \n",
    "# Initialize the recognizer\n",
    "r = sr.Recognizer()\n",
    " \n",
    "# Function to convert text to\n",
    "# speech\n",
    "def SpeakText(command):\n",
    "     \n",
    "    # Initialize the engine\n",
    "    engine = pyttsx3.init()\n",
    "    engine.say(command)\n",
    "    engine.runAndWait()\n",
    "     \n",
    "     "
   ]
  },
  {
   "cell_type": "code",
   "execution_count": 43,
   "id": "1f318e49",
   "metadata": {},
   "outputs": [],
   "source": [
    "def speech():   \n",
    "    try:\n",
    "         \n",
    "        # use the microphone as source for input.\n",
    "        with sr.Microphone() as source2:\n",
    "            r.adjust_for_ambient_noise(source2, duration=0.2)\n",
    "             \n",
    "            #listens for the user's input\n",
    "            audio2 = r.record(source2,duration=5)\n",
    "             \n",
    "            # Using google to recognize audio\n",
    "            MyText = r.recognize_google(audio2)\n",
    "            #MyText = MyText.lower()\n",
    " \n",
    "            return MyText\n",
    "             \n",
    "    except sr.RequestError as e:\n",
    "        print(\"Could not request results; {0}\".format(e))\n",
    "         \n",
    "    except sr.UnknownValueError:\n",
    "        speech()"
   ]
  },
  {
   "cell_type": "code",
   "execution_count": 47,
   "id": "8bb37d3f",
   "metadata": {},
   "outputs": [
    {
     "name": "stdout",
     "output_type": "stream",
     "text": [
      "Welcome to Ocean Resort! What's your name sir or madam? Aakash\n",
      "What is you Mobile Number? 935 3631 234\n",
      "What is your Address? Chennai\n",
      "Your ID Proof? Aadhar\n",
      "Your Room Type? Available rooms are Suite, Honeymoon, Family\n",
      "family\n",
      "Your Arrival date? 23 Jan 2023\n",
      "Your Departure date? 27 Jan 2020 3\n",
      "Do you confrim your details and booking?\n",
      "Name: Aakash \n",
      " Mob No.: 935 3631 234 \n",
      " Address: Chennai \n",
      " ID Proof: Aadhar \n",
      " Room Type: family \n",
      " Arrival Date: 23 Jan 2023 \n",
      " Departue Date: 27 Jan 2020 3\n",
      "Mr/Msaakash, your booking is confirmed.\n"
     ]
    }
   ],
   "source": [
    "f=0\n",
    "while f==0:\n",
    "    SpeakText('Welcome to Ocean Resort! What\\'s your name sir or madam?:')\n",
    "    print('Welcome to Ocean Resort! What\\'s your name sir or madam?',end=' ')\n",
    "    name=speech()\n",
    "    print(name)\n",
    "    SpeakText('What is your Mobile Number?')\n",
    "    print('What is you Mobile Number?',end=' ')\n",
    "    no=speech()\n",
    "    print(no)\n",
    "    SpeakText('What is your Address?')\n",
    "    print('What is your Address?',end=' ')\n",
    "    add=speech()\n",
    "    print(add)\n",
    "    SpeakText('Your ID Proof?')\n",
    "    print('Your ID Proof?',end=' ')\n",
    "    idp=speech()\n",
    "    print(idp)\n",
    "    l=0\n",
    "    while l==0:\n",
    "        SpeakText('Your Room Type? Available rooms are Suite, Honeymoon, Family')\n",
    "        print('Your Room Type? Available rooms are Suite, Honeymoon, Family')\n",
    "        room=speech()\n",
    "        if room.lower()!='honeymoon':\n",
    "            print(room)\n",
    "            l=1\n",
    "        else:\n",
    "            print('Your preferred room not available. Do you wish to continue?')\n",
    "            SpeakText('Your preferred room not available. Do you wish to continue with other rooms?')\n",
    "            con=speech()\n",
    "            if con.lower()=='yes':\n",
    "                continue\n",
    "            else:\n",
    "                print('We miss you! Try booking with us in future')\n",
    "                SpeakText('We miss you! Try booking with us in future')\n",
    "                f=1\n",
    "                break\n",
    "    if f==1:\n",
    "        break\n",
    "    SpeakText('Your Arrival Date?')\n",
    "    print('Your Arrival date?',end=' ')\n",
    "    adate=speech()\n",
    "    print(adate)\n",
    "    SpeakText('Your Departure Date?')\n",
    "    print('Your Departure date?',end=' ')\n",
    "    ddate=speech()\n",
    "    print(ddate)\n",
    "    SpeakText('Do you confrim your details and booking?')\n",
    "    print('Do you confrim your details and booking?')\n",
    "    print('Name:',name,'\\n','Mob No.:',no,'\\n','Address:',add,'\\n','ID Proof:',idp,'\\n','Room Type:',room,'\\n','Arrival Date:',adate,'\\n',\n",
    "         'Departue Date:',ddate)\n",
    "    conf=speech()\n",
    "    if conf.lower()=='yes':\n",
    "        print('Mr/Ms '+Name+', your booking is confirmed.')\n",
    "        SpeakText('Mr/Ms'+Name+', your booking is confirmed.')\n",
    "    else:\n",
    "        print('Your booking is not confirmed. Try again with another booking')\n",
    "        SpeakText('Your booking is not confirmed. Try again with another booking')\n",
    "    f=1"
   ]
  },
  {
   "cell_type": "code",
   "execution_count": null,
   "id": "7e94a70d",
   "metadata": {},
   "outputs": [],
   "source": []
  },
  {
   "cell_type": "code",
   "execution_count": null,
   "id": "8d373f46",
   "metadata": {},
   "outputs": [],
   "source": []
  }
 ],
 "metadata": {
  "kernelspec": {
   "display_name": "Python 3 (ipykernel)",
   "language": "python",
   "name": "python3"
  },
  "language_info": {
   "codemirror_mode": {
    "name": "ipython",
    "version": 3
   },
   "file_extension": ".py",
   "mimetype": "text/x-python",
   "name": "python",
   "nbconvert_exporter": "python",
   "pygments_lexer": "ipython3",
   "version": "3.9.12"
  }
 },
 "nbformat": 4,
 "nbformat_minor": 5
}
