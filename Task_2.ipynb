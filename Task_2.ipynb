{
  "nbformat": 4,
  "nbformat_minor": 0,
  "metadata": {
    "colab": {
      "provenance": []
    },
    "kernelspec": {
      "name": "python3",
      "display_name": "Python 3"
    },
    "language_info": {
      "name": "python"
    }
  },
  "cells": [
    {
      "cell_type": "code",
      "execution_count": 6,
      "metadata": {
        "colab": {
          "base_uri": "https://localhost:8080/"
        },
        "id": "eCgz8JzKZtj9",
        "outputId": "0e21d896-eb06-4001-871e-f5d967e17e83"
      },
      "outputs": [
        {
          "output_type": "stream",
          "name": "stdout",
          "text": [
            "Looking in indexes: https://pypi.org/simple, https://us-python.pkg.dev/colab-wheels/public/simple/\n",
            "Collecting pyspellchecker\n",
            "  Downloading pyspellchecker-0.7.0-py3-none-any.whl (2.5 MB)\n",
            "\u001b[K     |████████████████████████████████| 2.5 MB 15.3 MB/s \n",
            "\u001b[?25hInstalling collected packages: pyspellchecker\n",
            "Successfully installed pyspellchecker-0.7.0\n"
          ]
        }
      ],
      "source": [
        "pip install pyspellchecker"
      ]
    },
    {
      "cell_type": "code",
      "source": [
        "from spellchecker import SpellChecker\n",
        " \n",
        "specheck = SpellChecker()\n",
        "\n",
        "misspelled_words =[\"cmputr\", \"watr\", \"wriet\", \"athist\", \"acceptible\", \"benifit\", \"acommodate\", \"amatuer\", \"acknowlege\", \"becomeing\", \n",
        "                            \"camoflague\", \"catagory\", \"cauhgt\", \"cematery\", \"apparrent\", \"congradulate\", \"conceed\", \"definit\", \"disasterous\", \"dilema\",\n",
        "                            \"equiptment \", \"excede\", \"experiance\", \"innoculate\", \"extreem\", \"guage\", \"gratful\", \"guidence\", \"heirarchy\", \"dumbell\",\n",
        "                            \"necessery\", \"inteligence\", \"kernal\", \"libary\", \"outragous\", \"marshmellow\", \"miniture\", \"medeval\", \"nieghbor\", \"origenal\"]\n",
        "print(len(misspelled_words))\n",
        "for word in misspelled_words:\n",
        "    print(specheck.correction(word))"
      ],
      "metadata": {
        "colab": {
          "base_uri": "https://localhost:8080/"
        },
        "id": "gT4kxLzuaFuk",
        "outputId": "9fb0e11e-3368-4ba7-ebd4-398d69f92b4f"
      },
      "execution_count": 7,
      "outputs": [
        {
          "output_type": "stream",
          "name": "stdout",
          "text": [
            "40\n",
            "computer\n",
            "water\n",
            "write\n",
            "atheist\n",
            "acceptable\n",
            "benefit\n",
            "accommodate\n",
            "amateur\n",
            "acknowledge\n",
            "becoming\n",
            "camouflage\n",
            "category\n",
            "caught\n",
            "cemetery\n",
            "apparent\n",
            "congratulate\n",
            "concede\n",
            "definite\n",
            "disastrous\n",
            "dilemma\n",
            "equipment\n",
            "exceed\n",
            "experience\n",
            "inoculate\n",
            "extreme\n",
            "gauge\n",
            "grateful\n",
            "guidance\n",
            "hierarchy\n",
            "dumbbell\n",
            "necessary\n",
            "intelligence\n",
            "kernel\n",
            "library\n",
            "outrageous\n",
            "marshmallow\n",
            "miniature\n",
            "medieval\n",
            "neighbor\n",
            "original\n"
          ]
        }
      ]
    },
    {
      "cell_type": "code",
      "source": [
        "!sudo apt-get install swig\n",
        "!sudo pip install jamspell\n",
        "!wget https://github.com/bakwc/JamSpell-models/raw/master/en.tar.gz\n",
        "!tar -xvf en.tar.gz"
      ],
      "metadata": {
        "colab": {
          "base_uri": "https://localhost:8080/"
        },
        "id": "niMwu093aF1N",
        "outputId": "09731e90-b89c-48a8-b23e-03c7f922d8b7"
      },
      "execution_count": 14,
      "outputs": [
        {
          "output_type": "stream",
          "name": "stdout",
          "text": [
            "Reading package lists... Done\n",
            "Building dependency tree       \n",
            "Reading state information... Done\n",
            "swig is already the newest version (3.0.12-1).\n",
            "The following package was automatically installed and is no longer required:\n",
            "  libnvidia-common-460\n",
            "Use 'sudo apt autoremove' to remove it.\n",
            "0 upgraded, 0 newly installed, 0 to remove and 5 not upgraded.\n",
            "Looking in indexes: https://pypi.org/simple, https://us-python.pkg.dev/colab-wheels/public/simple/\n",
            "Requirement already satisfied: jamspell in /usr/local/lib/python3.7/dist-packages (0.0.12)\n",
            "--2022-11-18 12:25:35--  https://github.com/bakwc/JamSpell-models/raw/master/en.tar.gz\n",
            "Resolving github.com (github.com)... 140.82.121.3\n",
            "Connecting to github.com (github.com)|140.82.121.3|:443... connected.\n",
            "HTTP request sent, awaiting response... 302 Found\n",
            "Location: https://raw.githubusercontent.com/bakwc/JamSpell-models/master/en.tar.gz [following]\n",
            "--2022-11-18 12:25:35--  https://raw.githubusercontent.com/bakwc/JamSpell-models/master/en.tar.gz\n",
            "Resolving raw.githubusercontent.com (raw.githubusercontent.com)... 185.199.108.133, 185.199.109.133, 185.199.110.133, ...\n",
            "Connecting to raw.githubusercontent.com (raw.githubusercontent.com)|185.199.108.133|:443... connected.\n",
            "HTTP request sent, awaiting response... 200 OK\n",
            "Length: 36611828 (35M) [application/octet-stream]\n",
            "Saving to: ‘en.tar.gz’\n",
            "\n",
            "en.tar.gz           100%[===================>]  34.92M  --.-KB/s    in 0.1s    \n",
            "\n",
            "2022-11-18 12:25:35 (302 MB/s) - ‘en.tar.gz’ saved [36611828/36611828]\n",
            "\n",
            "en.bin\n"
          ]
        }
      ]
    },
    {
      "cell_type": "code",
      "source": [
        "import jamspell\n",
        "jsp = jamspell.TSpellCorrector()\n",
        "assert jsp.LoadLangModel('en.bin')\n",
        "sen=[\"I am the begt spell cherken\",\"Watre fell on my computr\",\n",
        "\"Athiest is one who does not beleve in God\",\n",
        "\"I am extreemly greatful to you\",\n",
        "\"Is this reelly necessery?\",\n",
        "\"I am in a real dilema whether to buy flourescent bulb or a LED bulb\",\n",
        "\"He conceeded defeat and congradulated the winner\",\n",
        "\"His nieghbor has a libary at the end of this streat\",\n",
        "\"He perfomed well in Miniture Golf and exceded everyone's expectation\",\n",
        "\"Due to heavy rains, the brige colapsed and resulted in a number of casulities\",\n",
        "\"Pationce is a vitue\",\n",
        "\"Taking a week-long vacaton would braek the bank. There’s no way I could aford to do it\",\n",
        "\"The traffic cop receves kicbacks for not writting tickets to politicians\",\n",
        "\"The Louvre Musem in Paris has the genuin Mona Lisa\"]\n",
        "for i in sen:\n",
        "  print(jsp.FixFragment(i))"
      ],
      "metadata": {
        "colab": {
          "base_uri": "https://localhost:8080/"
        },
        "id": "PVQbxmZkrctG",
        "outputId": "41fb5edf-1c47-4043-87f3-d8a0d043874a"
      },
      "execution_count": 17,
      "outputs": [
        {
          "output_type": "stream",
          "name": "stdout",
          "text": [
            "I am the best spell checker\n",
            "Water fell on my computer\n",
            "Atheist is one who does not believe in God\n",
            "I am extremely grateful to you\n",
            "Is this really necessary?\n",
            "I am in a real dilemma whether to buy fluorescent bulb or a LED bulb\n",
            "He conceded defeat and congratulated the winner\n",
            "His neighbor has a library at the end of this street\n",
            "He performed well in Miniature Golf and exceeded everyone's expectation\n",
            "Due to heavy rains, the bridge collapsed and resulted in a number of casualties\n",
            "Patience is a virtue\n",
            "Taking a week-long vacation would break the bank. There’s no way I could afford to do it\n",
            "The traffic cop receives kickbacks for not writing tickets to politicians\n",
            "The Louvre Museum in Paris has the genuine Mona Lisa\n"
          ]
        }
      ]
    },
    {
      "cell_type": "code",
      "source": [
        "import random\n",
        "sen=[]\n",
        "names=[\"We\",\"I\",\"They\",\"He\",\"She\",\"Jack\",\"Jim\",'Lokesh','Mahesh']\n",
        "verbs=[\"was\",\"is\",\"are\",\"were\"]\n",
        "nouns=[\"ploying a game\",\"wetching televisian\",\"telking\",\"dooncing\",\"spoaking\",'sinhing','braaking','lyeing','coaking']\n",
        "for i in range(100):\n",
        "    a=(random.choice(names))\n",
        "    b=(random.choice(verbs))\n",
        "    c=(random.choice(nouns))\n",
        "    s=a+' '+b+' '+c\n",
        "    sen.append(s)\n",
        "for i in sen:\n",
        "  print(jsp.FixFragment(i))"
      ],
      "metadata": {
        "id": "oAUQPI76aGEX",
        "colab": {
          "base_uri": "https://localhost:8080/"
        },
        "outputId": "7b999274-736f-44c5-f44e-7f1949addc18"
      },
      "execution_count": 22,
      "outputs": [
        {
          "output_type": "stream",
          "name": "stdout",
          "text": [
            "She was watching television\n",
            "Jack is playing a game\n",
            "I were watching television\n",
            "He is singing\n",
            "Jack were lying\n",
            "He were breaking\n",
            "Lokesh were lying\n",
            "I are speaking\n",
            "He is singing\n",
            "Jim was dancing\n",
            "He is breaking\n",
            "I are lying\n",
            "We was lying\n",
            "She is cooking\n",
            "We was talking\n",
            "Lokesh were speaking\n",
            "She is dancing\n",
            "I were lying\n",
            "I are speaking\n",
            "We was watching television\n",
            "Lokesh are cooking\n",
            "Lokesh is singing\n",
            "Jim are watching television\n",
            "We is lying\n",
            "Jack is watching television\n",
            "Jack was watching television\n",
            "They is talking\n",
            "They is lying\n",
            "He were drowning\n",
            "Lokesh were cooking\n",
            "They are speaking\n",
            "She was cooking\n",
            "She was speaking\n",
            "Jim was lying\n",
            "I are playing a game\n",
            "We was breaking\n",
            "She were talking\n",
            "Lokesh was speaking\n",
            "She was lying\n",
            "We were cooking\n",
            "I was sinking\n",
            "He were talking\n",
            "We were playing a game\n",
            "Lokesh were cooking\n",
            "They was dancing\n",
            "Lokesh was singing\n",
            "We is watching television\n",
            "Jack was dancing\n",
            "They were watching television\n",
            "They are dancing\n",
            "Jack are singing\n",
            "We is dancing\n",
            "Jim is singing\n",
            "He is watching television\n",
            "Jack is watching television\n",
            "Jack were lying\n",
            "I are watching television\n",
            "Mahesh is speaking\n",
            "He were speaking\n",
            "I were watching television\n",
            "Jack was talking\n",
            "We was speaking\n",
            "Mahesh was watching television\n",
            "Jim are watching television\n",
            "Jim was dancing\n",
            "She were cooking\n",
            "Jack was singing\n",
            "Lokesh is cooking\n",
            "I was sinking\n",
            "Mahesh is watching television\n",
            "She were playing a game\n",
            "Jack are singing\n",
            "Lokesh are watching television\n",
            "Lokesh was watching television\n",
            "He were watching television\n",
            "He were drowning\n",
            "I are watching television\n",
            "Jack are speaking\n",
            "I was sinking\n",
            "Jim is singing\n",
            "Jack is watching television\n",
            "He were watching television\n",
            "Jack were lying\n",
            "They was lying\n",
            "He was sinking\n",
            "We were breaking\n",
            "Jim are lying\n",
            "Lokesh is speaking\n",
            "They are talking\n",
            "We are singing\n",
            "Jack was cooking\n",
            "They was speaking\n",
            "Jack are lying\n",
            "I was dancing\n",
            "Jack was dancing\n",
            "I is breaking\n",
            "She were cooking\n",
            "He are lying\n",
            "We was singing\n",
            "Lokesh are talking\n"
          ]
        }
      ]
    }
  ]
}